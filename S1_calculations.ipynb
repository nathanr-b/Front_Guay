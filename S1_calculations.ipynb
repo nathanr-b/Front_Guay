{
 "cells": [
  {
   "cell_type": "markdown",
   "id": "0e224517-a4a1-4637-a308-9b4ea308e088",
   "metadata": {},
   "source": [
    "# <center> S1: Supplemental calculations for 'Quantifying hydrothermal ammonium recycling and implications for the marine biosphere: A case study from the Guaymas Basin, Gulf of California' </center> \n",
    "#### <center> Nathan Rochelle-Bates, Annabel Long, Graeme MacGilchrist, Andreas Teske, Eva E. Stüeken</center> "
   ]
  },
  {
   "cell_type": "markdown",
   "id": "f94bacec-3d56-4c70-becb-01e897662824",
   "metadata": {},
   "source": [
    "##  Section 1: estimating hydrothermal ammonium flux from temperature and porewater data\n",
    "<hr style=\"border: solid 3px red\">"
   ]
  },
  {
   "cell_type": "markdown",
   "id": "835b50ff-81b3-4d24-93a0-38cb4d57a6e5",
   "metadata": {},
   "source": [
    "Analytical solution for vertical steady flow of groundwater (Bredehoeft & Papadopulos, 1965):\n",
    "\n",
    "$$\n",
    "\\begin{aligned}\n",
    "(Tz – T0) / (T_L – T0) = f(β, z/L) \\\\\n",
    "\\end{aligned}\n",
    "$$\n",
    "where\n",
    "$$\n",
    "\\begin{aligned}\n",
    "f(β, z/L) = (e(β, z/L) - 1) / (e(β) - 1) \n",
    "\\end{aligned}\n",
    "$$\n",
    "and\n",
    "$$\n",
    "\\begin{aligned}\n",
    "β = \\frac{c_0ρ_0v_zL}{K}\n",
    "\\end{aligned}\n",
    "$$\n",
    "\n",
    "(β is a dimensionless parameter)\n",
    "\n",
    "following Neumann et al. (2023), we can also substitute:\n",
    "$$\n",
    "\\begin{aligned}\n",
    "\\frac{1}{k} = \\frac{c_0 ρ_0}{K}\n",
    "\\end{aligned}\n",
    "$$\n",
    "\n",
    "\n",
    "$Tz$ = Temperature measurement at any depth z \\\n",
    "$T0$ = Uppermost temperature measurement\\\n",
    "$T_L$  = Lowermost temperature measurement\\\n",
    "$L$ = distance between T0 and TL \\\n",
    "$c_0 ρ_0$ = heat capacity \\\n",
    "$K$ = thermal conductivity\\\n",
    "$k$ = thermal diffusivity\\\n",
    "$v_z$ = fluid velocity in z-direction"
   ]
  },
  {
   "cell_type": "code",
   "execution_count": 15,
   "id": "0620ed4c-f97d-47d5-837c-20a969ceb260",
   "metadata": {},
   "outputs": [
    {
     "name": "stdout",
     "output_type": "stream",
     "text": [
      "values used for estimating velocity:\n",
      "f(β, z/L) = [0.56730769 0.42162162 0.69047619]\n",
      "z/L = 0.5\n",
      "\n",
      "values used in section 6.5 of manuscript:\n",
      "velocities= [-2.92968750e-07  4.39453125e-07 -8.78906250e-07] m/s\n",
      "Southern Trough fluxes = [-26.3671875   39.55078125 -79.1015625 ] m3/s\n",
      "calculated velocities = [ -9.2390625   13.85859375 -27.7171875 ] m/yr\n",
      "Neumann Darcy flow velocity at ringvent site = -0.202 m/yr\n",
      "Neumann flow velocity at ringvent site = -8.006722475900559e-09 m/s\n"
     ]
    }
   ],
   "source": [
    "#calculate velocity at 20 cm depth (half the study interval) in all four cores using Bredehoeft & Papadopulos (1965) approach:\n",
    "#(not including oily core because of unknown fluid properties)\n",
    "\n",
    "import numpy as np\n",
    "\n",
    "k = 5e-7 # m2/s  # Fuchs et al., 2015 #thermal diffusivity. \n",
    "T0 = [4.8, 4.3, 59] #seafloor  temperature measurements (celsius).\n",
    "Tz= [52, 12.1, 88] #Temperature measurements at 20 cm depth (celsius).\n",
    "TL=[88, 22.8, 101]  #Lowermost temperature measurements (celsius).\n",
    "z=0.2 #depth of measurement (m)\n",
    "L=0.4 #distance between T0 and TL (m) .\n",
    "phi=0.8 # porosity\n",
    "basin_area = 14e9 # area of whole basin (m2)\n",
    "basin_depth = 2000 # depth of basin (m2)\n",
    "S_trough_area=9e7  # HT active (southern trough) area m2\n",
    "\n",
    "#additional params\n",
    "K=0.75 # thermal conductivity W/m/K - from Neumann et al. 2023 fig 3 - measurements in another part of basin, but seds should be fairly similar\n",
    "rho_0= 1000 # density of fluid (not particularly variable over temperature interval)\n",
    "c0= 4000 #J/kgC - from MIT lookup table\n",
    "\n",
    "\n",
    "#values used to find beta from figure 2 in paper:\n",
    "fcn_beta_z_L=np.zeros(3)\n",
    "for i in range(3):\n",
    "    fcn_beta_z_L[i]= (Tz[i] - T0[i]) / (TL[i] - T0[i]) \n",
    "\n",
    "z_over_L = z/L \n",
    "\n",
    "print(f'values used for estimating velocity:')\n",
    "print(f'f(β, z/L) = {fcn_beta_z_L}' )\n",
    "print(f'z/L = {z_over_L}')\n",
    "\n",
    "betas=[-0.5, 0.75, -1.5]  # visual estimates from Bredehoeft & Papadopulos (1965) fig. 2 - note that these suggest recharge in the cooler core\n",
    "\n",
    "#Darcy velocity values:\n",
    "vzs=np.zeros(3)\n",
    "vzs_alt=np.zeros(3)\n",
    "us=np.zeros(3)\n",
    "\n",
    "for i in range(3):\n",
    "    vzs[i]=(K*betas[i])/(c0*rho_0*L)  # darcy velocity \n",
    "    vzs_alt[i]=(betas[i]*k)/L # alternative darcy velocity using 1/k instead of (c0*rho_0)/K (approach used by Neumann et al., 2023)\n",
    "    us[i]=vzs[i]/phi # flow velocity m/s\n",
    "\n",
    "fluxes=us*S_trough_area #  ht flux m3/s - assume same flow from entire southern trough\n",
    "us_yr=us*31536000   # ht velocity m/yr\n",
    "\n",
    "print(f'')\n",
    "print(f'values used in section 6.5 of manuscript:')\n",
    "print(f'velocities= {us} m/s')\n",
    "print(f'Southern Trough fluxes = {fluxes} m3/s')\n",
    "print(f'calculated velocities = {us_yr} m/yr')\n",
    "print(f'Neumann Darcy flow velocity at ringvent site = {-202/1000} m/yr') # convert from published Darcy velocity of -202 mm/yr to m/yr, from off-axis vent in cooler part of basin\n",
    "print(f'Neumann flow velocity at ringvent site = {-202/1000/phi/31536000} m/s') # assume same porosity to calculate  flow velocity m/s\n"
   ]
  },
  {
   "cell_type": "code",
   "execution_count": 16,
   "id": "ef94bf6c-7c93-4f6e-9a07-c575cec51396",
   "metadata": {},
   "outputs": [
    {
     "name": "stdout",
     "output_type": "stream",
     "text": [
      "values used in section 6.5 of manuscript:\n",
      "HT ammonium fluxes = [-1.04296875e-06  1.27441406e-07 -3.68261719e-06] mol/m2 s\n"
     ]
    }
   ],
   "source": [
    "# calculate HT ammonium fluxes\n",
    "\n",
    "ammonium_molL = [0.00356, 0.00029, 0.00419] #mol/L - interpolated linearly from two closest porewater NH4+ measurements\n",
    "amonium_molm3 = np.multiply(ammonium_molL,1000) #mol/m3\n",
    "ammonium_flux = np.multiply(amonium_molm3,us) #mol/m2 s\n",
    "print(f'values used in section 6.5 of manuscript:')\n",
    "print(f'HT ammonium fluxes = {ammonium_flux} mol/m2 s')"
   ]
  },
  {
   "cell_type": "code",
   "execution_count": 17,
   "id": "5af3ab59-5d19-454a-9c9e-0a68a5384c5e",
   "metadata": {},
   "outputs": [
    {
     "name": "stdout",
     "output_type": "stream",
     "text": [
      "values used in section 6.5 of manuscript:\n",
      "nitrogen flux from sedimentation = [3.72790098e-09 1.16496906e-08] mol N/ m2 yr\n"
     ]
    }
   ],
   "source": [
    "# nitrogen supplied by sedimentation for comparison:\n",
    "sed_rate= [0.08, 0.25]#cm/yr\n",
    "porosity=0.8\n",
    "TOC = 3.5 # % typical surface sediment TOC for Guaymas de la lanza espino 1999, teske 2020\n",
    "CN = 8.5 # Ramirez 2020 C/N mass ratio for background sediments\n",
    "TN=TOC/CN\n",
    "TN_model = 0.8814539711106709 # modelled wt% N surface sediment (this study)\n",
    "sed_density = 2.5 # g/cm3 -(dry sediment density approximated as shale)\n",
    "porosity = 0.8\n",
    "\n",
    "mass_N_cm= np.multiply(sed_rate,((1-porosity)*sed_density*(TN/100))) #g/cm2 yr mass of N deposited per cm2 year\n",
    "mol_N_cm= mass_N_cm/14.01 #mol N/ cm2 yr\n",
    "mol_N_m = mol_N_cm*10000  #mol N/ m2 yr\n",
    "mol_N_m_s = mol_N_m/31536000 # mol N/ m2 s \n",
    "\n",
    "print(f'values used in section 6.5 of manuscript:')\n",
    "print(f'nitrogen flux from sedimentation = {mol_N_m_s} mol N/ m2 yr')"
   ]
  },
  {
   "cell_type": "code",
   "execution_count": 18,
   "id": "2f0a0894-459a-4694-ab32-d0e86a348852",
   "metadata": {},
   "outputs": [
    {
     "name": "stdout",
     "output_type": "stream",
     "text": [
      "Recharge ammonium flux from seawater= 1.4062500000000003e-11 mol N/ m^2 s\n"
     ]
    }
   ],
   "source": [
    "# flux from seawater into sediment (recharge)\n",
    "velocity = 4.39453125e-07 #recharge velocity 4572-15 Bredehoeft & Papadopulos (1965) calculation m/s\n",
    "SW_NH4 = 40e-9 # SW concentration mol/L from S. Trough bottom water (not from buoyant hydrothermal plumes) (Lam, 2004)\n",
    "SW_NH4_m3 = SW_NH4*1000 # SW concentration mol/m3\n",
    "SW_flux = SW_NH4_m3*velocity*porosity # recharge  ammonium flux from seawater at 20 cm depth in  4572-15 mol N/ m^2 s\n",
    "\n",
    "print(f'Recharge ammonium flux from seawater= {SW_flux} mol N/ m^2 s')"
   ]
  },
  {
   "cell_type": "markdown",
   "id": "ea03abcd-27f6-43ec-ab39-cfed396247a8",
   "metadata": {},
   "source": [
    "##  Section 2: estimating nitrogen loss from sediment data\n",
    "<hr style=\"border: solid 3px red\">"
   ]
  },
  {
   "cell_type": "code",
   "execution_count": 19,
   "id": "77f3d852-dd3f-4c1f-8cbb-6cb05114fb0e",
   "metadata": {},
   "outputs": [
    {
     "data": {
      "text/plain": [
       "Text(0.5, 0, 'Depth (cm)')"
      ]
     },
     "execution_count": 19,
     "metadata": {},
     "output_type": "execute_result"
    },
    {
     "data": {
      "image/png": "[encoded data removed]",
      "text/plain": [
       "<Figure size 640x480 with 1 Axes>"
      ]
     },
     "metadata": {},
     "output_type": "display_data"
    }
   ],
   "source": [
    "import numpy as np\n",
    "from matplotlib import pyplot as plt\n",
    "\n",
    "depths=[1,3,5,7,9,11,13,15,18,19,21,23,25] # measurement depths (cm)\n",
    "TN = [0.69209297, 0.3802924,  0.20799093, 0.13524755, 0.1496261,  0.12189576, 0.12701818, 0.11348316, 0.15595799, 0.12476856, 0.11232835, 0.12185742,\n",
    " 0.11510551] # TN% measurements in sediments\n",
    "\n",
    "plt.plot(depths,TN)\n",
    "plt.ylabel('TN %')\n",
    "plt.xlabel('Depth (cm)')"
   ]
  },
  {
   "cell_type": "markdown",
   "id": "298be805-2dd1-495a-9a5a-bb6ac6184c69",
   "metadata": {},
   "source": [
    "### Method for fitting an exponential function to the data: \n",
    "###\n",
    "$$\n",
    "\\begin{gather}\n",
    "log TN = \\beta + \\alpha  z \\\\\n",
    "TN = 10^{(\\beta +\\alpha z)} \\\\\n",
    "TN = 10^\\beta \\cdot 10^{\\alpha z} \\\\\n",
    "TN = 10^\\beta \\cdot 10^{\\alpha ^{z}}\\\\\n",
    "TN\\_intercept = 10^\\beta \\\\\n",
    "loss\\_coefficient = 10^\\alpha \\\\\n",
    "TN = TN\\_intercept \\cdot loss\\_coefficient^z\\\\\n",
    "\\end{gather}\n",
    "$$\n",
    "\n",
    "where:\\\n",
    "$TN$ = Total nitrogen content(%)\\\n",
    "$TN$ intercept = nitrogen content(%) at depth = 0 \\\n",
    "$z$ = sample depth\n",
    "\n"
   ]
  },
  {
   "cell_type": "code",
   "execution_count": 20,
   "id": "05244f4c-6a85-47a9-bf3f-58fd5f5c3455",
   "metadata": {},
   "outputs": [
    {
     "name": "stdout",
     "output_type": "stream",
     "text": [
      "projected nitrogen content at seafloor (z=0) = 0.8814539748816371 %\n",
      "loss coefficient (N lost with depth) = 0.7595232676906296\n"
     ]
    }
   ],
   "source": [
    "#fit exp fcn to sediment N curve (first four datapoints)\n",
    "TN_log=np.log10(TN)\n",
    "alpha, beta = np.polyfit(depths[0:4],TN_log[0:4],1) #use these values to get the intercept and 'loss coefficient', as shown below\n",
    "\n",
    "TN_intercept=np.power(10,beta) # projected surface sediment N content\n",
    "loss_coefficient=np.power(10,alpha) # how much N lost with depth\n",
    "\n",
    "print(f'projected nitrogen content at seafloor (z=0) = {TN_intercept} %')\n",
    "print(f'loss coefficient (N lost with depth) = {loss_coefficient}')\n"
   ]
  },
  {
   "cell_type": "code",
   "execution_count": 21,
   "id": "236f998b-45e8-4764-8237-84f30617edf7",
   "metadata": {},
   "outputs": [],
   "source": [
    "#write function for exp part\n",
    "def N_loss_fcn(TN_intercept,z,loss_coefficient):\n",
    "    return TN_intercept*loss_coefficient**z"
   ]
  },
  {
   "cell_type": "code",
   "execution_count": 22,
   "id": "8df6a36c-eec3-4db2-a7ff-819d5dfdee3e",
   "metadata": {},
   "outputs": [],
   "source": [
    "#solver for exp loss fcn\n",
    "def N_loss_exp_solve(TN_intercept,z,loss_coefficient):\n",
    "    TN_calc = N_loss_fcn(TN_intercept,z,loss_coefficient)\n",
    "    return TN_calc, z\n",
    "    "
   ]
  },
  {
   "cell_type": "code",
   "execution_count": 23,
   "id": "2b4e75db-ee3c-4b15-8568-89a25634edf5",
   "metadata": {},
   "outputs": [
    {
     "data": {
      "text/plain": [
       "<matplotlib.legend.Legend at 0x21e47656a80>"
      ]
     },
     "execution_count": 23,
     "metadata": {},
     "output_type": "execute_result"
    },
    {
     "data": {
      "image/png": "[encoded data removed]",
      "text/plain": [
       "<Figure size 640x480 with 1 Axes>"
      ]
     },
     "metadata": {},
     "output_type": "display_data"
    }
   ],
   "source": [
    "#solve and plot\n",
    "z_total=25\n",
    "dz=1\n",
    "z=np.linspace(0,z_total,int(z_total/dz)+1)\n",
    "TN_intercept = 0.8814539711106709\n",
    "loss_coefficient = 0.7595232693452315\n",
    "\n",
    "\n",
    "TN_calc , z = N_loss_exp_solve(TN_intercept,z,loss_coefficient)\n",
    "\n",
    "plt.plot(z, TN_calc,label='model')\n",
    "plt.plot(depths,TN,label='data')\n",
    "plt.ylabel('TN %')\n",
    "plt.xlabel('Depth (cm)')\n",
    "plt.legend()"
   ]
  },
  {
   "cell_type": "code",
   "execution_count": 24,
   "id": "b8fd5a17-f9a9-4f33-9d83-824d5e56b6b9",
   "metadata": {},
   "outputs": [
    {
     "name": "stdout",
     "output_type": "stream",
     "text": [
      "recalcitrant N (as a fraction of the TN intercept) = 0.1407355010196269\n"
     ]
    }
   ],
   "source": [
    "#incorporate linear part based on a recalcitrant (unreactive) fraction of N - use average of the remaining datapoints from the core\n",
    "#recalcitrant fraction:\n",
    "rec_N_frac=((np.average(TN[5:]))/TN_intercept) # defined as fraction of the TN intercept\n",
    "print (f'recalcitrant N (as a fraction of the TN intercept) = {rec_N_frac}')"
   ]
  },
  {
   "cell_type": "code",
   "execution_count": 25,
   "id": "3df24e41-2e26-4757-89cb-fb25afe30fad",
   "metadata": {
    "scrolled": true
   },
   "outputs": [],
   "source": [
    "#modify loss fcn to incorporate subdomains\n",
    "def N_loss_piece_solve(TN_intercept,z,loss_coefficient,rec_N_frac):\n",
    "    TN_calc = N_loss_fcn(TN_intercept,z,loss_coefficient) # reactive N\n",
    "    rec_N=rec_N_frac*TN_intercept # recalcitrant N\n",
    "    TN_calc=np.where(TN_calc > rec_N,TN_calc,rec_N) \n",
    "    return TN_calc, z"
   ]
  },
  {
   "cell_type": "code",
   "execution_count": 26,
   "id": "8c36c795-51b8-4359-a1e3-616e9424541c",
   "metadata": {},
   "outputs": [
    {
     "data": {
      "text/plain": [
       "<matplotlib.legend.Legend at 0x21e47705340>"
      ]
     },
     "execution_count": 26,
     "metadata": {},
     "output_type": "execute_result"
    },
    {
     "data": {
      "image/png": "[encoded data removed]",
      "text/plain": [
       "<Figure size 640x480 with 1 Axes>"
      ]
     },
     "metadata": {},
     "output_type": "display_data"
    }
   ],
   "source": [
    "#solve and plot\n",
    "z_total=25\n",
    "dz=0.1\n",
    "z=np.linspace(0,z_total,int(z_total/dz)+1)\n",
    "TN_intercept = 0.8814539711106709\n",
    "loss_coefficient = 0.7595232693452315\n",
    "rec_N_frac=0.14073550158687148\n",
    "\n",
    "TN_calc, z = N_loss_piece_solve(TN_intercept,z,loss_coefficient,rec_N_frac)\n",
    "\n",
    "plt.plot(z, TN_calc,label='piecewise model')\n",
    "plt.plot(depths,TN,label='data')\n",
    "plt.ylabel('TN %')\n",
    "plt.xlabel('Depth cm')\n",
    "plt.legend()"
   ]
  },
  {
   "cell_type": "markdown",
   "id": "3d5ae1cf-bea9-4cdd-ba2b-aaa69919b13f",
   "metadata": {},
   "source": [
    "### Method for finding the cutoff value for the exponential part of the function: \n",
    "\n",
    "Curve equation form:\n",
    "$$ y = y_0 * a^x $$\n",
    "\n",
    "rearrange:\n",
    "\n",
    "$$y/y_0 = a^x$$\n",
    "\n",
    "#isolate exponent:\n",
    "\n",
    "$$\n",
    "\\begin{aligned}\n",
    "log(y/y_0)=log (a^x)\\\\\n",
    "log(y/y_0)= xlog(a)\\\\\n",
    "log(y/y_0)/log(a)= x \\\\\n",
    "\\end{aligned}\n",
    "$$\n",
    " using the parameters described above:\n",
    " \n",
    "$$ log(TN/TN\\_intercept)/log(loss\\_coefficient)= x $$\n",
    "\n",
    "substitute the recalcitrant N fraction for TN and will give corresponding cutoff x"
   ]
  },
  {
   "cell_type": "markdown",
   "id": "94ebcee6-f437-46f3-a841-54d8ab7eda52",
   "metadata": {},
   "source": [
    "### Method for integrating the exponential function to find nitrogen lost:\n",
    "\n",
    "Curve equation form:\n",
    "$$ y = y_0 * a^x $$\n",
    "\n",
    "integrate for $a^x$: \n",
    "$$\n",
    "\\begin{gather}\n",
    "a^x = e^{(ln(a))^x}\\\\\n",
    "a^x = e^{xln(a)}\\\\\n",
    "\\int\\ a^xdx = \\int\\ e^{xln(a)}\\ dx\\\\      \n",
    "\\end{gather}\n",
    "$$\n",
    "u substitution: \n",
    "$$\n",
    "\\begin{gather}       \n",
    "u = xln(a)\\\\\n",
    "du/dx = ln(a)\\\\\n",
    "dx = du/ln(a)\\\\\n",
    "\\int\\ a^x\\ dx = 1/ln(a)\\ \\cdot \\int\\ e^u\\ du\\\\\n",
    "\\int\\ a^x\\ dx= 1/ln(a)\\ \\cdot\\ e^u\\\\\n",
    "\\int\\ a^x\\ dx  = 1/ln(a)\\ \\cdot\\ e^{xln(a)}\\\\ \n",
    "\\int\\ a^x\\ dx =  1/ln(a)\\ \\cdot\\ a^x + C\\\\\n",
    "\\end{gather}\n",
    "$$\n",
    "\n",
    "including the y intercept:\n",
    "$$\n",
    "\\begin{gather}  \n",
    "\\int\\ y_0\\ \\cdot\\ a^x\\ dx = y_0\\ \\cdot\\ x + \\frac {a^x}{ln(x)} + C \\\\\n",
    "\\end{gather}\n",
    "$$\n",
    "\n",
    "evaluated between $x = 0$ and the cutoff $x$:\n",
    "\n",
    "$$\n",
    "\\begin{gather}  \n",
    "\\int_{0}^{cutoff\\_x} \\ y_0\\ \\cdot\\ a^x\\ dx  = y_0 \\ \\cdot\\ \\frac{a^{cutoff\\_x}}{ln(a)} - \\frac{a^0}{ln(a)} \\\\\n",
    "\\int_{0}^{cutoff\\_x} \\ y_0\\ \\cdot\\ a^x\\ dx  = y_0 \\ \\cdot\\ \\frac{a^{cutoff\\_x} - 1} {ln(a)} \\\\\n",
    "\\end{gather}\n",
    "$$"
   ]
  },
  {
   "cell_type": "markdown",
   "id": "27fa24f2-f136-4cf5-83b0-70e377edebf7",
   "metadata": {},
   "source": [
    "##  Section 3: running the calculation and upscaling\n",
    "<hr style=\"border: solid 3px red\">"
   ]
  },
  {
   "cell_type": "code",
   "execution_count": 27,
   "id": "d3831533-2f13-456c-bf78-4a915813a027",
   "metadata": {},
   "outputs": [
    {
     "name": "stdout",
     "output_type": "stream",
     "text": [
      "Values used in section 6.5:\n",
      "remobilization efficiency = 54.197338400382364 %\n",
      "calculated HT nitrogen loss from shallow seds = [4.32506707e-09 1.35158346e-08] mol N/ m^2 s\n",
      "Sediment N flux from shallow seds in S. Trough = [0.43250671 1.35158346] mol/s\n",
      "Sediment N flux from shallow seds (both troughs) = [1.29752012 4.05475038] mol/s\n",
      "Values used in section 6.7:\n",
      "biomass that could be sustained with remobilized N = [1085246.37498143 3391394.92181698] kg/yr\n",
      "biomass that could be sustained with remobilized N (both troughs) = [ 3255739.1249443  10174184.76545095] kg/yr\n",
      "productivity that could be sustained with remobilized N = [0.00645442 0.02017007] mol C/ m^2 yr\n",
      "productivity that could be sustained with remobilized N (both troughs) = [0.01936326 0.0605102 ] mol C/ m^2 yr\n",
      "average measured export productivity (White et al., 2013) = 4.83625 mol C/ m^2 yr\n",
      "fraction of measured export productivity = [0.13345921 0.41706004] %\n",
      "fraction of measured export productivity (both troughs)= [0.40037764 1.25118012] %\n"
     ]
    }
   ],
   "source": [
    "#integrate over the sediment with reactive N (~top 7 cm) to find N lost\n",
    "\n",
    "#params from previous section\n",
    "TN_intercept_percent = 0.8814539711106709 # weight% N in dry sediment\n",
    "loss_coefficient = 0.7595232693452315\n",
    "TN_cutoff_z = np.log(rec_N_frac/TN_intercept_percent)/np.log(loss_coefficient) # upper bound of exponential function (depth at which no more N lost)\n",
    "\n",
    "measured_exp_prod = 0.01325 #mol C/ m2 day - average taken from stations GC1&2 White et al. (2013)\n",
    "measured_exp_prod_yr = measured_exp_prod * 365\n",
    "Strough_area = 1e8 # area of southern trough (m2) (the hydrothermally active area)\n",
    "Ntrough_area = 2e8 # area of northern trough (m2) (the hydrothermally active area)\n",
    "basin_area = 14e9 # area of whole basin (m2)\n",
    "basin_depth = 2000 # depth of basin (m2)\n",
    "basin_vol = basin_area*basin_depth # basin volume (m3) (treated as straight-edged - overestimate)\n",
    "sed_rates = [0.08, 0.25] # published sedimentation rates (cm/yr)\n",
    "time_yr = TN_cutoff_z/sed_rates #time to accumulate top c. 7cm sediment (yr)\n",
    "porosity = 0.8 # estimated from sediment mass and extracted water contents\n",
    "density_dry = 2.5 # density of dry sediment g/cm3 (modelled as shale)\n",
    "\n",
    "mass_sed = (1-porosity)*density_dry # g sediment in 1cm3 sediment + water\n",
    "\n",
    "TN_intercept_g_wet = TN_intercept_percent/100*mass_sed # g nitrogen in 1cm3 sediment + water (no loss)\n",
    "TN_intercept_mol_wet = TN_intercept_g_wet/14.01 # mol nitrogen in 1cm3 sediment + water (no loss)\n",
    "\n",
    "# integrate amount of N lost in top c. 7cm sediment\n",
    "\n",
    "int_N_sed = (TN_intercept_mol_wet*((loss_coefficient**TN_cutoff_z)-1))/(np.log(loss_coefficient)) # remaining N (mol) for top c. 7cm sed \n",
    "int_N_loss = (TN_intercept_mol_wet*TN_cutoff_z)-int_N_sed # lost N mol for top c. 7cm sed\n",
    "expected_TN = TN_intercept_mol_wet*TN_cutoff_z # N mol assuming no loss \n",
    "\n",
    "#  calculate amount of biomass (as C) that could be sustained by hydrothermally derived N:\n",
    "\n",
    "N_loss_mol_cm2_yr = int_N_loss  / time_yr # N loss (mol/cm2 year) (integrated over top c. 7 cm sed)\n",
    "N_loss_mol_m2_yr = N_loss_mol_cm2_yr  * 10000 # N loss (mol/m2) sediment per year\n",
    "N_loss_Strough = N_loss_mol_m2_yr * Strough_area # N loss (mol/yr) in hydrothermally active area (southern trough)\n",
    "N_loss_2trough = N_loss_mol_m2_yr * (Strough_area + Ntrough_area)\n",
    "fixed_C_mol_yr = N_loss_Strough*(106/16) # multiply by Redfield ratio to obtain Carbon (mol/yr) that could be fixed with hydrothermal N\n",
    "fixed_C_mol_yr_2trough = N_loss_2trough*(106/16) # for both troughs\n",
    "fixed_C_mol_m2_yr = fixed_C_mol_yr/basin_area # carbon (mol/m2 yr) that could be fixed across basin with additional N\n",
    "fixed_C_mol_m2_yr_2trough = fixed_C_mol_yr_2trough/basin_area # carbon (mol/m2 yr) that could be fixed across basin with additional N\n",
    "\n",
    "# ratio of measured productivity to additional productivity that could be sustained by additional N\n",
    "\n",
    "ratio_measured_percent = fixed_C_mol_m2_yr / measured_exp_prod_yr * 100 # ratio calculated (HT driven) productivity to measured export productivity %\n",
    "ratio_measured_percent_2trough = fixed_C_mol_m2_yr_2trough / measured_exp_prod_yr * 100 # ratio calculated (HT driven) productivity to measured export productivity %\n",
    "\n",
    "# total biomass that could be sustained (as dry C) per year (multiply by C molar mass and 1000 to give kg)\n",
    "biomass=fixed_C_mol_yr * 12.01/1000 # kg carbon / yr \n",
    "biomass_2trough=fixed_C_mol_yr_2trough * 12.01/1000 # kg carbon / yr \n",
    "\n",
    "print(f'Values used in section 6.5:')\n",
    "print(f'remobilization efficiency = {int_N_loss/expected_TN*100} %')\n",
    "print(f'calculated HT nitrogen loss from shallow seds = {N_loss_mol_m2_yr/31536000} mol N/ m^2 s')\n",
    "print(f'Sediment N flux from shallow seds in S. Trough = {N_loss_Strough/31536000} mol/s')\n",
    "print(f'Sediment N flux from shallow seds (both troughs) = {N_loss_2trough/31536000} mol/s')\n",
    "print(f'Values used in section 6.7:')\n",
    "print(f'biomass that could be sustained with remobilized N = {biomass} kg/yr')\n",
    "print(f'biomass that could be sustained with remobilized N (both troughs) = {biomass_2trough} kg/yr')\n",
    "print(f'productivity that could be sustained with remobilized N = {fixed_C_mol_m2_yr} mol C/ m^2 yr')\n",
    "print(f'productivity that could be sustained with remobilized N (both troughs) = {fixed_C_mol_m2_yr_2trough} mol C/ m^2 yr')\n",
    "print(f'average measured export productivity (White et al., 2013) = {measured_exp_prod_yr} mol C/ m^2 yr')\n",
    "print(f'fraction of measured export productivity = {ratio_measured_percent} %')\n",
    "print(f'fraction of measured export productivity (both troughs)= {ratio_measured_percent_2trough} %')"
   ]
  },
  {
   "cell_type": "code",
   "execution_count": 28,
   "id": "6b2934a4-0c2e-4fca-8b9b-f74813a26e2a",
   "metadata": {},
   "outputs": [
    {
     "name": "stdout",
     "output_type": "stream",
     "text": [
      "Values used in section 6.7:\n",
      "Campbell Gieskes total HT N flux to basin = [156.  187.2] mol/s\n",
      "Campbell Gieskes fraction of measured export productivity= [48.13714286 57.76457143] %\n"
     ]
    }
   ],
   "source": [
    "#Comparison with Campbell and Gieskes (1984) total hydrothermal flux estimate\n",
    "CG_N_M = 0.0156 # mol/L N,  measured HT endmember NH4+ conc used by Campell and Gieskes (1984) (also in Von Damm et al., 1985)\n",
    "CG_N_molm3 = np.multiply(CG_N_M,1000) # mol/m3 N, HT endmember fluid N conc \n",
    "CG_flux_m3s = [10, 12] # HT flux for basin, m3/s (Campbell and Gieskes, (1984)\n",
    "\n",
    "CG_flux_mols = np.multiply(CG_flux_m3s,CG_N_molm3) #mol/s N flux into basin\n",
    "\n",
    "CG_fixed_C_mol_yr = CG_flux_mols*31536000*(106/16) # convert to mol/yr and multiply by Redfield ratio to obtain Carbon (mol/yr) that could be fixed with hydrothermal N\n",
    "CG_fixed_C_mol_m2_yr = CG_fixed_C_mol_yr/basin_area # carbon (mol/m2 yr) that could be fixed across basin with additional N\n",
    "CG_ratio_measured_percent = CG_fixed_C_mol_m2_yr / measured_exp_prod_yr * 100 # ratio calculated (HT driven) productivity to measured surface export productivity %\n",
    "\n",
    "print(f'Values used in section 6.7:')\n",
    "print(f'Campbell Gieskes total HT N flux to basin = {CG_flux_mols} mol/s')\n",
    "print(f'Campbell Gieskes fraction of measured export productivity= {CG_ratio_measured_percent} %')"
   ]
  },
  {
   "cell_type": "code",
   "execution_count": null,
   "id": "9123d943-0282-4a69-b75d-cb0a1233c436",
   "metadata": {},
   "outputs": [],
   "source": []
  }
 ],
 "metadata": {
  "kernelspec": {
   "display_name": "Python 3 (ipykernel)",
   "language": "python",
   "name": "python3"
  },
  "language_info": {
   "codemirror_mode": {
    "name": "ipython",
    "version": 3
   },
   "file_extension": ".py",
   "mimetype": "text/x-python",
   "name": "python",
   "nbconvert_exporter": "python",
   "pygments_lexer": "ipython3",
   "version": "3.12.2"
  }
 },
 "nbformat": 4,
 "nbformat_minor": 5
}
